{
 "cells": [
  {
   "cell_type": "markdown",
   "metadata": {},
   "source": [
    "# Collections\n",
    "\n",
    "Previously, we were introduced to individual types that exist in Python. \n",
    "Python types go beyond individual items, including objects that can hold **collections** of variables. \n",
    "This section will introduce three different collection types:\n",
    "- Tuples\n",
    "- Lists\n",
    "- Dictionarys\n",
    "\n",
    "As is the case with individual types, different collection types can be acted on in different ways. \n",
    "\n",
    "<hr> \n",
    "\n",
    "## Tuples\n",
    "\n",
    "A tuple "
   ]
  },
  {
   "cell_type": "code",
   "execution_count": null,
   "metadata": {},
   "outputs": [],
   "source": []
  }
 ],
 "metadata": {
  "kernelspec": {
   "display_name": "Python 3",
   "language": "python",
   "name": "python3"
  },
  "language_info": {
   "codemirror_mode": {
    "name": "ipython",
    "version": 3
   },
   "file_extension": ".py",
   "mimetype": "text/x-python",
   "name": "python",
   "nbconvert_exporter": "python",
   "pygments_lexer": "ipython3",
   "version": "3.7.3"
  }
 },
 "nbformat": 4,
 "nbformat_minor": 4
}
